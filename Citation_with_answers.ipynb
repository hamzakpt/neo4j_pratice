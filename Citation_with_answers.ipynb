{
 "cells": [
  {
   "cell_type": "code",
   "execution_count": 1,
   "metadata": {},
   "outputs": [
    {
     "name": "stdout",
     "output_type": "stream",
     "text": [
      "Collecting pyspark\n",
      "Collecting py4j==0.10.7 (from pyspark)\n",
      "  Using cached https://files.pythonhosted.org/packages/e3/53/c737818eb9a7dc32a7cd4f1396e787bd94200c3997c72c1dbe028587bd76/py4j-0.10.7-py2.py3-none-any.whl\n",
      "Installing collected packages: py4j, pyspark\n",
      "Successfully installed py4j-0.10.7 pyspark-2.4.4\n",
      "Collecting graphframes\n",
      "  Using cached https://files.pythonhosted.org/packages/0b/27/c7c7e1ced2fe9a905f865dd91faaec2ac8a8e313f511678c8ec92a41a153/graphframes-0.6-py2.py3-none-any.whl\n",
      "Collecting nose (from graphframes)\n",
      "  Using cached https://files.pythonhosted.org/packages/15/d8/dd071918c040f50fa1cf80da16423af51ff8ce4a0f2399b7bf8de45ac3d9/nose-1.3.7-py3-none-any.whl\n",
      "Collecting numpy (from graphframes)\n",
      "  Using cached https://files.pythonhosted.org/packages/d2/ab/43e678759326f728de861edbef34b8e2ad1b1490505f20e0d1f0716c3bf4/numpy-1.17.4-cp36-cp36m-manylinux1_x86_64.whl\n",
      "Installing collected packages: nose, numpy, graphframes\n",
      "Successfully installed graphframes-0.6 nose-1.3.7 numpy-1.17.4\n"
     ]
    }
   ],
   "source": [
    "!pip3 install pyspark\n",
    "!pip3 install graphframes"
   ]
  },
  {
   "cell_type": "code",
   "execution_count": 2,
   "metadata": {},
   "outputs": [],
   "source": [
    "import pyspark as ps\n",
    "import os\n",
    "from pyspark.sql import SparkSession, SQLContext\n",
    "from pyspark.sql.functions import udf, col\n",
    "from pyspark.sql.types import *\n",
    "os.environ[\"PYSPARK_SUBMIT_ARGS\"] = (\n",
    "    \"--packages graphframes:graphframes:0.7.0-spark2.4-s_2.11 pyspark-shell\"\n",
    ")"
   ]
  },
  {
   "cell_type": "markdown",
   "metadata": {},
   "source": [
    "### Usefull functions"
   ]
  },
  {
   "cell_type": "code",
   "execution_count": 3,
   "metadata": {},
   "outputs": [],
   "source": [
    "def init_spark(app_name, master_config):\n",
    "    \"\"\"\n",
    "    :params app_name: Name of the app\n",
    "    :params master_config: eg. local[4]\n",
    "    :returns SparkContext, SQLContext, SparkSession:\n",
    "    \"\"\"\n",
    "    conf = (ps.SparkConf().setAppName(app_name).setMaster(master_config))\n",
    "\n",
    "    sc = ps.SparkContext(conf=conf)\n",
    "    sc.setLogLevel(\"ERROR\")\n",
    "    sql_ctx = SQLContext(sc)\n",
    "    spark = SparkSession(sc)\n",
    "\n",
    "    return (sc, sql_ctx, spark)"
   ]
  },
  {
   "cell_type": "code",
   "execution_count": 4,
   "metadata": {},
   "outputs": [],
   "source": [
    "@udf(returnType=BooleanType())\n",
    "def check_map(dist_map):\n",
    "    return bool(dist_map)"
   ]
  },
  {
   "cell_type": "code",
   "execution_count": 5,
   "metadata": {},
   "outputs": [],
   "source": [
    "def get_id_by_title(title, vertices):\n",
    "    return vertices.filter(vertices['title']==title).head()[0]"
   ]
  },
  {
   "cell_type": "markdown",
   "metadata": {},
   "source": [
    "### Queries"
   ]
  },
  {
   "cell_type": "code",
   "execution_count": 6,
   "metadata": {},
   "outputs": [],
   "source": [
    "def first_query(g, year, art_id):\n",
    "    sp = g.shortestPaths(landmarks=[art_id])\n",
    "    results = sp.filter(sp['year']==year)\n",
    "    results = results.withColumn(\"isLinked\", check_map(\"distances\"))\n",
    "    results = results.filter(results['isLinked'])\n",
    "    results = results.drop(*['distances','isLinked'])\n",
    "    return results"
   ]
  },
  {
   "cell_type": "code",
   "execution_count": 7,
   "metadata": {},
   "outputs": [],
   "source": [
    "def second_query(g, art_id):\n",
    "    sp = g.shortestPaths(landmarks=[art_id])\n",
    "    sp = sp.withColumn(\"isLinked\", check_map(\"distances\"))\n",
    "    popular_by_year = sp.filter(sp['isLinked']).groupBy(\"year\").count()\n",
    "    return popular_by_year.orderBy(popular_by_year['count'].desc())"
   ]
  },
  {
   "cell_type": "code",
   "execution_count": 8,
   "metadata": {},
   "outputs": [],
   "source": [
    "def third_query(g, rp=0.15, mi=10):\n",
    "    query_result = g.pageRank(resetProbability=rp, maxIter=mi).vertices\n",
    "    return query_result.orderBy(query_result['pagerank'].desc())"
   ]
  },
  {
   "cell_type": "code",
   "execution_count": 9,
   "metadata": {},
   "outputs": [],
   "source": [
    "def lab_prop(g, mi=10):\n",
    "    communities = g.labelPropagation(maxIter=10)\n",
    "    com = communities.groupBy('label').count()\n",
    "    return com.orderBy(com['count'].desc()), communities"
   ]
  },
  {
   "cell_type": "markdown",
   "metadata": {},
   "source": [
    "### Create spark env"
   ]
  },
  {
   "cell_type": "code",
   "execution_count": 10,
   "metadata": {},
   "outputs": [],
   "source": [
    "sc, sql_ctx, spark = init_spark(\"App_name\", \"local[*]\")"
   ]
  },
  {
   "cell_type": "markdown",
   "metadata": {},
   "source": [
    "## Work with small dataset\n",
    "### Reading"
   ]
  },
  {
   "cell_type": "code",
   "execution_count": 11,
   "metadata": {},
   "outputs": [],
   "source": [
    "path_to_vertices = \"/home/kostin_001/citation-data/small/v.txt\"\n",
    "path_to_edges = \"/home/kostin_001/citation-data/small/e.txt\""
   ]
  },
  {
   "cell_type": "code",
   "execution_count": 12,
   "metadata": {},
   "outputs": [],
   "source": [
    "vertexScheme = StructType([\n",
    "  StructField(\"id\", StringType(), False),\n",
    "  StructField(\"title\", StringType(), False),\n",
    "  StructField(\"year\", IntegerType(), False),\n",
    "  StructField(\"publication_venue\", StringType(), False),\n",
    "  StructField(\"authors\", StringType(), False)]\n",
    ")"
   ]
  },
  {
   "cell_type": "code",
   "execution_count": 13,
   "metadata": {},
   "outputs": [],
   "source": [
    "edgeScheme = StructType([\n",
    "  StructField(\"src\", StringType(), False),\n",
    "  StructField(\"dst\", StringType(), False),\n",
    "  StructField(\"count\", IntegerType(), False)]\n",
    ")"
   ]
  },
  {
   "cell_type": "code",
   "execution_count": 14,
   "metadata": {},
   "outputs": [],
   "source": [
    "vertices = spark.read.option(\"delimiter\", \"\\t\").option(\"schema\", vertexScheme).option(\"header\", False).csv(path_to_vertices).toDF(\"id\", \"title\",\"year\", \"publication_venue\", \"authors\")"
   ]
  },
  {
   "cell_type": "code",
   "execution_count": 15,
   "metadata": {},
   "outputs": [],
   "source": [
    "edges = spark.read.option(\"delimiter\", \"\\t\").option(\"schema\", edgeScheme).option(\"header\", False).csv(path_to_edges).toDF(\"src\", \"dst\",\"count\")\n",
    "edges = edges.drop('count')"
   ]
  },
  {
   "cell_type": "markdown",
   "metadata": {},
   "source": [
    "## Creating GraphFrame"
   ]
  },
  {
   "cell_type": "code",
   "execution_count": 16,
   "metadata": {},
   "outputs": [],
   "source": [
    "from graphframes import *\n",
    "g = GraphFrame(vertices,edges)"
   ]
  },
  {
   "cell_type": "markdown",
   "metadata": {},
   "source": [
    "## Queries"
   ]
  },
  {
   "cell_type": "markdown",
   "metadata": {},
   "source": [
    "Return all the papers that were written in 2001 and can be traced back (through citations, direct or indirect) to the paper ARIES: A Transaction Recovery Method Supporting Fine-Granularity Locking and Partial Rollbacks Using Write-Ahead Logging."
   ]
  },
  {
   "cell_type": "code",
   "execution_count": 17,
   "metadata": {},
   "outputs": [],
   "source": [
    "title = 'ARIES: A Transaction Recovery Method Supporting Fine-Granularity Locking and Partial Rollbacks Using Write-Ahead Logging'\n",
    "art_id = get_id_by_title(title, vertices)\n",
    "year = '2001'"
   ]
  },
  {
   "cell_type": "code",
   "execution_count": 18,
   "metadata": {},
   "outputs": [
    {
     "name": "stdout",
     "output_type": "stream",
     "text": [
      "+----+--------------------+----+-----------------+--------------------+\n",
      "|  id|               title|year|publication_venue|             authors|\n",
      "+----+--------------------+----+-----------------+--------------------+\n",
      "|2276|Career-Enhancing ...|2001|    SIGMOD Record|Alexandros Labrin...|\n",
      "|1640|Scalable Distribu...|2001|          RIDE-DM|Torsten Grabs,Kle...|\n",
      "|1269|Approximate Query...|2001|          VLDB J.|Kaushik Chakrabar...|\n",
      "|2268|Efficiently Publi...|2001|          VLDB J.|Jayavel Shanmugas...|\n",
      "|2323|Flexible Data Cub...|2001|             ICDT|Mirek Riedewald,D...|\n",
      "+----+--------------------+----+-----------------+--------------------+\n",
      "\n"
     ]
    }
   ],
   "source": [
    "first_query(g, year, art_id).show()"
   ]
  },
  {
   "cell_type": "markdown",
   "metadata": {},
   "source": [
    "On which year, there is the most papers that trace back to the paper mentioned above?"
   ]
  },
  {
   "cell_type": "code",
   "execution_count": 19,
   "metadata": {},
   "outputs": [
    {
     "name": "stdout",
     "output_type": "stream",
     "text": [
      "+----+-----+\n",
      "|year|count|\n",
      "+----+-----+\n",
      "|1999|   74|\n",
      "|1998|   68|\n",
      "|1996|   55|\n",
      "|1997|   53|\n",
      "|1993|   50|\n",
      "|1995|   49|\n",
      "|2000|   48|\n",
      "|1994|   41|\n",
      "|1992|   29|\n",
      "|1991|    8|\n",
      "|1990|    7|\n",
      "|2001|    5|\n",
      "+----+-----+\n",
      "\n"
     ]
    }
   ],
   "source": [
    "sq_ans = second_query(g, art_id)\n",
    "sq_ans.show()"
   ]
  },
  {
   "cell_type": "code",
   "execution_count": 20,
   "metadata": {},
   "outputs": [
    {
     "data": {
      "text/plain": [
       "'1999'"
      ]
     },
     "execution_count": 20,
     "metadata": {},
     "output_type": "execute_result"
    }
   ],
   "source": [
    "sq_ans.head()['year']"
   ]
  },
  {
   "cell_type": "markdown",
   "metadata": {},
   "source": [
    "Return the most influential papers in the citation graph."
   ]
  },
  {
   "cell_type": "code",
   "execution_count": 21,
   "metadata": {},
   "outputs": [
    {
     "name": "stdout",
     "output_type": "stream",
     "text": [
      "+----+--------------------+----+-----------------+--------------------+-----------------+\n",
      "|  id|               title|year|publication_venue|             authors|         pagerank|\n",
      "+----+--------------------+----+-----------------+--------------------+-----------------+\n",
      "|1575|A Study of Three ...|1990|             VLDB|David J. DeWitt,P...|38.03636673275022|\n",
      "+----+--------------------+----+-----------------+--------------------+-----------------+\n",
      "only showing top 1 row\n",
      "\n"
     ]
    }
   ],
   "source": [
    "third_query(g).show(1)"
   ]
  },
  {
   "cell_type": "markdown",
   "metadata": {},
   "source": [
    "Discover the five largest communities"
   ]
  },
  {
   "cell_type": "code",
   "execution_count": 22,
   "metadata": {},
   "outputs": [
    {
     "name": "stdout",
     "output_type": "stream",
     "text": [
      "+-------------+-----+\n",
      "|        label|count|\n",
      "+-------------+-----+\n",
      "| 584115552258|  137|\n",
      "| 197568495616|  103|\n",
      "|1571958030339|   91|\n",
      "|  60129542155|   81|\n",
      "| 283467841543|   78|\n",
      "+-------------+-----+\n",
      "only showing top 5 rows\n",
      "\n"
     ]
    }
   ],
   "source": [
    "com, communities = lab_prop(g)\n",
    "com.show(5)"
   ]
  },
  {
   "cell_type": "code",
   "execution_count": 23,
   "metadata": {},
   "outputs": [
    {
     "name": "stdout",
     "output_type": "stream",
     "text": [
      "+----+--------------------+----+--------------------+--------------------+------------+\n",
      "|  id|               title|year|   publication_venue|             authors|       label|\n",
      "+----+--------------------+----+--------------------+--------------------+------------+\n",
      "| 529|Itemset Materiali...|1998|               ADBIS|Marek Wojciechows...|584115552258|\n",
      "| 659|Knowledge Discove...|1996|                ICDE|Kimmo Hatonen,Mik...|584115552258|\n",
      "| 299|Mining Quantitati...|1996|   SIGMOD Conference|Ramakrishnan Srik...|584115552258|\n",
      "|1883|PUBLIC: A Decisio...|2000|Data Min. Knowl. ...|Rajeev Rastogi,Ky...|584115552258|\n",
      "|2208|Processing Time-C...|1993|ACM Trans. Databa...|Wen-Chi Hou,Gulte...|584115552258|\n",
      "| 571|Efficient Attribu...|1998|IEEE Trans. Knowl...|Colin L. Carter,H...|584115552258|\n",
      "|1794|Efficiently Suppo...|1997|   SIGMOD Conference|Flip Korn,H. V. J...|584115552258|\n",
      "| 262|Mining Sequential...|1996|                EDBT|Ramakrishnan Srik...|584115552258|\n",
      "| 710|Automatic Subspac...|1998|   SIGMOD Conference|Rakesh Agrawal,Jo...|584115552258|\n",
      "|1230|Approximate Queri...|1996|                ICDE|Hagit Shatkay,Sta...|584115552258|\n",
      "|2138|DBMS Research at ...|1993|                VLDB|Michael Stonebrak...|584115552258|\n",
      "| 607|STING: A Statisti...|1997|                VLDB|Wei Wang,Jiong Ya...|584115552258|\n",
      "|2106|Efficient Algorit...|2000|   SIGMOD Conference|Sridhar Ramaswamy...|584115552258|\n",
      "| 541|Scalable Parallel...|2000|IEEE Trans. Knowl...|Eui-Hong Han,Geor...|584115552258|\n",
      "| 514|Incremental Clust...|1998|                VLDB|Martin Ester,Hans...|584115552258|\n",
      "| 636|Efficient Data Mi...|1998|IEEE Trans. Knowl...|Ming-Syan Chen,Jo...|584115552258|\n",
      "| 519|A New Framework F...|1998|                PODS|Charu C. Aggarwal...|584115552258|\n",
      "| 562|A Density-Based A...|1996|                 KDD|Martin Ester,Hans...|584115552258|\n",
      "| 531|Selective Materia...|1998|               PAKDD|Jiawei Han,Nebojs...|584115552258|\n",
      "| 558|Discovery, Analys...|1991|Knowledge Discove...|Gregory Piatetsky...|584115552258|\n",
      "+----+--------------------+----+--------------------+--------------------+------------+\n",
      "only showing top 20 rows\n",
      "\n",
      "+----+--------------------+----+--------------------+--------------------+------------+\n",
      "|  id|               title|year|   publication_venue|             authors|       label|\n",
      "+----+--------------------+----+--------------------+--------------------+------------+\n",
      "|1335|Active Data/Knowl...|1992|IEEE Data Eng. Bull.|Sharma Chakravart...|197568495616|\n",
      "|1672|Controlling the S...|1992|              JICSLP|Raghu Ramakrishna...|197568495616|\n",
      "|2206|Integrity Mainten...|1992|                VLDB|H. V. Jagadish,Xi...|197568495616|\n",
      "|1355|K: A High-Level K...|1991|   SIGMOD Conference|Yuh-Ming Shyy,Sta...|197568495616|\n",
      "|1697|Multilevel Secure...|1992|               DBSec|Kenneth Smith,Mar...|197568495616|\n",
      "|1980|Evolution of Rela...|1991|                 BTW|Hamid Pirahesh,C....|197568495616|\n",
      "|2188|Extensibility in ...|1990|IBM Symposium: Da...|Bruce G. Lindsay,...|197568495616|\n",
      "|1256|Aggregation and R...|1991|                VLDB|S. Sudarshan,Ragh...|197568495616|\n",
      "|2306|Promises and Real...|1995|                VLDB|Eric Simon,Angeli...|197568495616|\n",
      "|1868|Architecture of A...|1999|Active Rules in D...|Alejandro P. Buch...|197568495616|\n",
      "|2352|Incremental Recom...|1991|IEEE Trans. Knowl...|Xiaolei Qian,Gio ...|197568495616|\n",
      "|1890|Semantic Query Op...|1994|IEEE Trans. Knowl...|Wei Sun,Clement T...|197568495616|\n",
      "|1282|Set-Oriented Prod...|1990|   SIGMOD Conference|Jennifer Widom,Sh...|197568495616|\n",
      "|2347|The STRIP Rule Sy...|1997|   SIGMOD Conference|Brad Adelberg,Hec...|197568495616|\n",
      "|1511|Composite Event S...|1992|                VLDB|Narain H. Gehani,...|197568495616|\n",
      "|2395|CQL++: A SQL for ...|1992|                EDBT|Shaul Dar,Narain ...|197568495616|\n",
      "|1432|A Framework for J...|1995|IEEE Trans. Knowl...|Arie Segev,J. Leo...|197568495616|\n",
      "|2073|Using the Co-exis...|1993|   SIGMOD Conference|R. Ananthanarayan...|197568495616|\n",
      "|1739|The Postgres Next...|1991|         Commun. ACM|Michael Stonebrak...|197568495616|\n",
      "|2283|Semantics for Upd...|1996|ACM Trans. Databa...|Louiqa Raschid,Jo...|197568495616|\n",
      "+----+--------------------+----+--------------------+--------------------+------------+\n",
      "only showing top 20 rows\n",
      "\n",
      "+----+--------------------+----+--------------------+--------------------+-------------+\n",
      "|  id|               title|year|   publication_venue|             authors|        label|\n",
      "+----+--------------------+----+--------------------+--------------------+-------------+\n",
      "|1603|Fault Tolerance I...|1994|IEEE Data Eng. Bull.|Leana Golubchik,R...|1571958030339|\n",
      "|1848|Towards Self-Tuni...|2000|   SIGMOD Conference|Mong-Li Lee,Masar...|1571958030339|\n",
      "|1840|Data partitioning...|1993|          Inf. Syst.|Kien A. Hua,Chian...|1571958030339|\n",
      "|1500|Load Control in S...|1996|Distributed and P...|Yuri Breitbart,Ra...|1571958030339|\n",
      "|1873|Parallel Database...|1993|                ICDE|   Patrick Valduriez|1571958030339|\n",
      "|2380|Speculative Data ...|1996|                ICDE|      Azer Bestavros|1571958030339|\n",
      "|1216|Performance Analy...|1993|                PDIS|Arif Merchant,Phi...|1571958030339|\n",
      "|2171|Managing Persiste...|1991|   SIGMOD Conference| Michael Stonebraker|1571958030339|\n",
      "|1376|Parallel Database...|1993|Distributed and P...|   Patrick Valduriez|1571958030339|\n",
      "|1287|Tradeoffs in Proc...|1990|                VLDB|Donovan A. Schnei...|1571958030339|\n",
      "|1458|Data Partitioning...|1998|             VLDB J.|Peter Scheuermann...|1571958030339|\n",
      "|1183|Snowball: Scalabl...|1998|Distributed and P...|Radek Vingralek,Y...|1571958030339|\n",
      "|2403|Bucket Spreading ...|1990|                VLDB|Masaru Kitsuregaw...|1571958030339|\n",
      "|1656|Handling Data Ske...|1991|                VLDB|Kien A. Hua,Chian...|1571958030339|\n",
      "|2393|Distributed File ...|1994|   SIGMOD Conference|Radek Vingralek,Y...|1571958030339|\n",
      "| 639|Query Processing ...|1995|                VLDB|     Sunita Sarawagi|1571958030339|\n",
      "|1849|Tutorial on Paral...|1995|                ICDT|      Gerhard Weikum|1571958030339|\n",
      "|1484|A Parallel Algori...|1990|ACM Trans. Databa...|Edward Omiecinski...|1571958030339|\n",
      "|2209|Analysis of Dynam...|1993|                VLDB|Erhard Rahm,Rober...|1571958030339|\n",
      "|1358|Tuning of Stripin...|1992|            RIDE-TQP|Gerhard Weikum,Pe...|1571958030339|\n",
      "+----+--------------------+----+--------------------+--------------------+-------------+\n",
      "only showing top 20 rows\n",
      "\n",
      "+----+--------------------+----+--------------------+--------------------+-----------+\n",
      "|  id|               title|year|   publication_venue|             authors|      label|\n",
      "+----+--------------------+----+--------------------+--------------------+-----------+\n",
      "|2071|Optimizer and Par...|1999|                ICDE|William O'Connell...|60129542155|\n",
      "|1592|Run-Time Manageme...|1999|WebDB (Informal P...|Daniela Florescu,...|60129542155|\n",
      "|1300|A Polynomial Time...|1993|                ICDE|Arun N. Swami,Bal...|60129542155|\n",
      "|1617|Main Memory Orien...|1992|IEEE Trans. Knowl...|Witold Litwin,Tor...|60129542155|\n",
      "|1886|Practical Predica...|1994|   SIGMOD Conference|Joseph M. Hellers...|60129542155|\n",
      "|1219|Architecture of a...|1992|       IEEE Computer|David L. Wells,Jo...|60129542155|\n",
      "|1515|Control of an Ext...|1993|                VLDB|Gail Mitchell,Ume...|60129542155|\n",
      "|2100|Review - Predicat...|2000|ACM SIGMOD Digita...|          Eric Simon|60129542155|\n",
      "|2111|Counting, Enumera...|2000|   SIGMOD Conference|Florian Waas,Cesa...|60129542155|\n",
      "|2153|A Moose and a Fox...|1993|                DBPL|Janet L. Wiener,Y...|60129542155|\n",
      "|2107|Randomized Algori...|1990|   SIGMOD Conference|Yannis E. Ioannid...|60129542155|\n",
      "|1399|Optimization of Q...|1999|ACM Trans. Databa...|Surajit Chaudhuri...|60129542155|\n",
      "|2131|Composite-Object ...|1994|          Inf. Syst.|Hamid Pirahesh,Be...|60129542155|\n",
      "|1551|Execution Plan Ge...|1991|                DOOD|Dave D. Straube,M...|60129542155|\n",
      "|2355|Navigation-Driven...|2000|                EDBT|Bertram Ludascher...|60129542155|\n",
      "|1870|Optimization of O...|1992|   SIGMOD Conference|Rosana S. G. Lanz...|60129542155|\n",
      "|1454|The Fittest Survi...|1995|                VLDB|Hongjun Lu,Kian-L...|60129542155|\n",
      "|1628|Changing the Rule...|1998|   SIGMOD Conference|Mitch Cherniack,S...|60129542155|\n",
      "|1192|Density Biased Sa...|2000|   SIGMOD Conference|Christopher R. Pa...|60129542155|\n",
      "|1188|Optimizing Loops ...|1991|                DBPL|Daniel F. Lieuwen...|60129542155|\n",
      "+----+--------------------+----+--------------------+--------------------+-----------+\n",
      "only showing top 20 rows\n",
      "\n"
     ]
    },
    {
     "name": "stdout",
     "output_type": "stream",
     "text": [
      "+----+--------------------+----+--------------------+--------------------+------------+\n",
      "|  id|               title|year|   publication_venue|             authors|       label|\n",
      "+----+--------------------+----+--------------------+--------------------+------------+\n",
      "|1249|On Indexing Line ...|1990|                VLDB|      H. V. Jagadish|283467841543|\n",
      "|1514|Approximate Analy...|1990|          SIGMETRICS|    Theodore Johnson|283467841543|\n",
      "|1943|The Design and Im...|1998|IEEE Trans. Knowl...|Ming-Ling Lo,Chin...|283467841543|\n",
      "|1191|The hB-Tree: A Mu...|1990|ACM Trans. Databa...|David B. Lomet,Be...|283467841543|\n",
      "|1797|Approximation-Bas...|1998|      GeoInformatica|Hans-Peter Kriege...|283467841543|\n",
      "|1430|Key Range Locking...|1993|                VLDB|      David B. Lomet|283467841543|\n",
      "|1787|Dynamically Optim...|2000|                EDBT|Christian Bohm,Ha...|283467841543|\n",
      "|2457|A Scientific Mult...|1996|               SSDBM|Taekyong Lee,Tolg...|283467841543|\n",
      "|1342|The hBP-tree: A M...|1995|                VLDB|Georgios Evangeli...|283467841543|\n",
      "|1664|The Snapshot Inde...|1995|          Inf. Syst.|Vassilis J. Tsotr...|283467841543|\n",
      "|1338|Independent Quant...|2000|                ICDE|Stefan Berchtold,...|283467841543|\n",
      "|2233|Dynamic Maintenan...|1994|             VLDB J.|Kyu-Young Whang,S...|283467841543|\n",
      "|1968|Aggregate Aware C...|2000|                EDBT|Prasad Deshpande,...|283467841543|\n",
      "|1317|The LHAM Log-Stru...|2000|             VLDB J.|Peter Muth,Patric...|283467841543|\n",
      "|1160|SEQUOIA 2000: A R...|1994|               SSDBM| Michael Stonebraker|283467841543|\n",
      "|2302|The hB-Pi-Tree: A...|1997|             VLDB J.|Georgios Evangeli...|283467841543|\n",
      "|1320|Locking without B...|1992|                PODS|John Turek,Dennis...|283467841543|\n",
      "|1895|Fast Similarity S...|1995|                VLDB|Rakesh Agrawal,Ki...|283467841543|\n",
      "|  31|Object-Oriented D...|1998|               ADBIS|       Mathias Weske|283467841543|\n",
      "|  35|Mining Process Mo...|1998|                EDBT|Rakesh Agrawal,Di...|283467841543|\n",
      "+----+--------------------+----+--------------------+--------------------+------------+\n",
      "only showing top 20 rows\n",
      "\n"
     ]
    }
   ],
   "source": [
    "top5 = com.orderBy(com[\"count\"].desc()).collect()[:5]\n",
    "for i in range(5):\n",
    "    communities[communities['label']==top5[i][\"label\"]].show()"
   ]
  },
  {
   "cell_type": "markdown",
   "metadata": {},
   "source": [
    "## Working with large dataset"
   ]
  },
  {
   "cell_type": "code",
   "execution_count": 24,
   "metadata": {},
   "outputs": [],
   "source": [
    "path_to_vertices_title = \"/home/kostin_001/citation-data/large/paper_title.tsv\"\n",
    "path_to_vertices_year = \"/home/kostin_001/citation-data/large/paper_year.tsv\"\n",
    "path_to_edges = \"/home/kostin_001/citation-data/large/ref.tsv\""
   ]
  },
  {
   "cell_type": "code",
   "execution_count": 25,
   "metadata": {},
   "outputs": [],
   "source": [
    "vertices_large = spark.read.option(\"delimiter\", \"\\t\").option(\"header\", True).csv(path_to_vertices_title).toDF(\"id\", \"title\")\n",
    "vertices_l_title = spark.read.option(\"delimiter\", \"\\t\").option(\"header\", True).csv(path_to_vertices_year).toDF(\"id\", \"year\")"
   ]
  },
  {
   "cell_type": "code",
   "execution_count": 26,
   "metadata": {},
   "outputs": [],
   "source": [
    "edges_large = spark.read.option(\"delimiter\", \"\\t\").option(\"header\", True).csv(path_to_edges).toDF(\"src\", \"dst\")"
   ]
  },
  {
   "cell_type": "markdown",
   "metadata": {},
   "source": [
    "### Preprocess vertices\n",
    "#### Join and remove empty vertices (with empty title or empty year)"
   ]
  },
  {
   "cell_type": "code",
   "execution_count": 27,
   "metadata": {},
   "outputs": [],
   "source": [
    "vertices_large = vertices_large.filter(vertices_large['title']!='\\\\N')"
   ]
  },
  {
   "cell_type": "code",
   "execution_count": 28,
   "metadata": {},
   "outputs": [],
   "source": [
    "vertices_large = vertices_large.join(vertices_l_title, \"id\", how='inner')"
   ]
  },
  {
   "cell_type": "markdown",
   "metadata": {},
   "source": [
    "## Creating GraphFrame"
   ]
  },
  {
   "cell_type": "code",
   "execution_count": 29,
   "metadata": {},
   "outputs": [],
   "source": [
    "g_large = GraphFrame(vertices_large,edges_large)"
   ]
  },
  {
   "cell_type": "markdown",
   "metadata": {},
   "source": [
    "## Queries"
   ]
  },
  {
   "cell_type": "markdown",
   "metadata": {},
   "source": [
    "Return all the papers that were written in 2001 and can be traced back (through citations, direct or indirect) to the paper Machine Learning."
   ]
  },
  {
   "cell_type": "code",
   "execution_count": 30,
   "metadata": {},
   "outputs": [],
   "source": [
    "title='Machine Learning'\n",
    "art_id = get_id_by_title(title, vertices_large)\n",
    "year = '2001'"
   ]
  },
  {
   "cell_type": "code",
   "execution_count": 31,
   "metadata": {},
   "outputs": [
    {
     "name": "stdout",
     "output_type": "stream",
     "text": [
      "+---------+--------------------+----+\n",
      "|       id|               title|year|\n",
      "+---------+--------------------+----+\n",
      "|118752797|Regularized Winno...|2001|\n",
      "| 44682603|A Preliminary Inv...|2001|\n",
      "| 21500490|Latent Semantic K...|2001|\n",
      "|124450490|Automated Negotia...|2001|\n",
      "| 25469601|Computerized Eval...|2001|\n",
      "|   199774|     Image analogies|2001|\n",
      "| 48238347|One More Revoluti...|2001|\n",
      "| 47789932|Learning of Ontol...|2001|\n",
      "|116179987|Evolving Neural N...|2001|\n",
      "| 32061053|Computational mod...|2001|\n",
      "|135271887|A bayesian approa...|2001|\n",
      "|152219899|A SURVEY OF RECOM...|2001|\n",
      "| 58493275|Text Categorizati...|2001|\n",
      "| 32082883|A Rough Set-Aided...|2001|\n",
      "| 58963568|Using unlabeled d...|2001|\n",
      "| 73242454|On Clustering Val...|2001|\n",
      "|106231930|An empirical stud...|2001|\n",
      "|145282097|Ensembles of Clas...|2001|\n",
      "| 68991837|Bayesian Network ...|2001|\n",
      "| 98310893|Application of da...|2001|\n",
      "+---------+--------------------+----+\n",
      "only showing top 20 rows\n",
      "\n"
     ]
    }
   ],
   "source": [
    "first_query(g_large, year, art_id).show()"
   ]
  },
  {
   "cell_type": "markdown",
   "metadata": {},
   "source": [
    "On which year, there is the most papers that trace back to the paper mentioned above?"
   ]
  },
  {
   "cell_type": "code",
   "execution_count": 32,
   "metadata": {},
   "outputs": [
    {
     "name": "stdout",
     "output_type": "stream",
     "text": [
      "+----+-----+\n",
      "|year|count|\n",
      "+----+-----+\n",
      "|2011|   63|\n",
      "|2010|   62|\n",
      "|2012|   60|\n",
      "|2013|   57|\n",
      "|2009|   49|\n",
      "|2007|   45|\n",
      "|2006|   44|\n",
      "|2008|   43|\n",
      "|2003|   42|\n",
      "|2005|   41|\n",
      "|2015|   39|\n",
      "|2014|   36|\n",
      "|2004|   35|\n",
      "|2002|   31|\n",
      "|2001|   24|\n",
      "|2016|   22|\n",
      "|2000|   22|\n",
      "|1998|   10|\n",
      "|1999|    6|\n",
      "|1996|    5|\n",
      "+----+-----+\n",
      "only showing top 20 rows\n",
      "\n"
     ]
    }
   ],
   "source": [
    "sq_ans = second_query(g_large, art_id)\n",
    "sq_ans.show()"
   ]
  },
  {
   "cell_type": "code",
   "execution_count": 33,
   "metadata": {},
   "outputs": [
    {
     "data": {
      "text/plain": [
       "'2011'"
      ]
     },
     "execution_count": 33,
     "metadata": {},
     "output_type": "execute_result"
    }
   ],
   "source": [
    "sq_ans.head()['year']"
   ]
  },
  {
   "cell_type": "markdown",
   "metadata": {},
   "source": [
    "Return the most influential papers in the citation graph."
   ]
  },
  {
   "cell_type": "code",
   "execution_count": 34,
   "metadata": {},
   "outputs": [
    {
     "name": "stdout",
     "output_type": "stream",
     "text": [
      "+---------+--------------------+----+----------------+\n",
      "|       id|               title|year|        pagerank|\n",
      "+---------+--------------------+----+----------------+\n",
      "|109151907|Maximum likelihoo...|1976|48.0570681047734|\n",
      "+---------+--------------------+----+----------------+\n",
      "only showing top 1 row\n",
      "\n"
     ]
    }
   ],
   "source": [
    "third_query(g_large).show(1)"
   ]
  },
  {
   "cell_type": "markdown",
   "metadata": {},
   "source": [
    "Discover the five largest communities"
   ]
  },
  {
   "cell_type": "code",
   "execution_count": 35,
   "metadata": {},
   "outputs": [
    {
     "name": "stdout",
     "output_type": "stream",
     "text": [
      "+-------------+-----+\n",
      "|        label|count|\n",
      "+-------------+-----+\n",
      "| 730144440403|  525|\n",
      "|1022202216587|  486|\n",
      "| 901943132216|  332|\n",
      "| 738734374950|  252|\n",
      "|1408749273125|  211|\n",
      "+-------------+-----+\n",
      "only showing top 5 rows\n",
      "\n"
     ]
    }
   ],
   "source": [
    "com, communities = lab_prop(g_large)\n",
    "com.show(5)"
   ]
  },
  {
   "cell_type": "code",
   "execution_count": 36,
   "metadata": {},
   "outputs": [
    {
     "name": "stdout",
     "output_type": "stream",
     "text": [
      "+---------+--------------------+----+------------+\n",
      "|       id|               title|year|       label|\n",
      "+---------+--------------------+----+------------+\n",
      "|  4121452|NETTOOL: A Hybrid...|1995|730144440403|\n",
      "| 69981149|Modeling for Opti...|2002|730144440403|\n",
      "| 65706799|Divergence Measur...|2005|730144440403|\n",
      "| 69230391|Some methods for ...|1967|730144440403|\n",
      "|135363541|Estimation with Q...|1961|730144440403|\n",
      "| 50427228|Introducing dendr...|2005|730144440403|\n",
      "| 41547217|Off-Line Learning...|2007|730144440403|\n",
      "|114826224|Classifier Combin...|2000|730144440403|\n",
      "|145868677|    Visualizing Data|1993|730144440403|\n",
      "| 23331361|RightSPOT: A Nove...|2003|730144440403|\n",
      "|  6375526|Refining Initial ...|1998|730144440403|\n",
      "|149533720|A Hybrid Approach...|2004|730144440403|\n",
      "|114610098|SMOTE: synthetic ...|2002|730144440403|\n",
      "| 61245463|“Everything Perso...|2003|730144440403|\n",
      "|139219710|On the Use of Ske...|2000|730144440403|\n",
      "| 59731700|Adaptive Learning...|2009|730144440403|\n",
      "|111877296|A quantitative me...|2006|730144440403|\n",
      "|126117019|Strangeness minim...|2006|730144440403|\n",
      "| 11446144|Popular ensemble ...|1999|730144440403|\n",
      "|109760426|Learning and infe...|2004|730144440403|\n",
      "+---------+--------------------+----+------------+\n",
      "only showing top 20 rows\n",
      "\n",
      "+---------+--------------------+----+-------------+\n",
      "|       id|               title|year|        label|\n",
      "+---------+--------------------+----+-------------+\n",
      "| 41726437|Investigating inf...|1999|1022202216587|\n",
      "| 93367418|Understanding dig...|2008|1022202216587|\n",
      "| 98646846|Fehlschläge bei I...|2008|1022202216587|\n",
      "| 96885724|Information syste...|2002|1022202216587|\n",
      "| 73666809|Electronic commer...|1997|1022202216587|\n",
      "| 63232434|The partial least...|1998|1022202216587|\n",
      "| 22293608|Genre Repetoire: ...|1994|1022202216587|\n",
      "| 99611785|A comprehensive f...|2012|1022202216587|\n",
      "| 93139320|The (Lacking) Bus...|2009|1022202216587|\n",
      "| 11563722|Web-Based virtual...|2001|1022202216587|\n",
      "|106851432|BRIDGING THE CHAS...|2010|1022202216587|\n",
      "|147166494|The use of Emotio...|2006|1022202216587|\n",
      "| 21625647|Organizational be...|2002|1022202216587|\n",
      "|130170891|Principles and pr...|1998|1022202216587|\n",
      "| 24012441|Unifying the frag...|1987|1022202216587|\n",
      "| 27591408|Contextual Design...|1997|1022202216587|\n",
      "|117286041|Action Research a...|2006|1022202216587|\n",
      "|104034579|  Online communities|1984|1022202216587|\n",
      "| 62747191|Issues in the des...|1984|1022202216587|\n",
      "| 55820283|Drivers and Inhib...|2008|1022202216587|\n",
      "+---------+--------------------+----+-------------+\n",
      "only showing top 20 rows\n",
      "\n",
      "+---------+--------------------+----+------------+\n",
      "|       id|               title|year|       label|\n",
      "+---------+--------------------+----+------------+\n",
      "| 66129212|Plan synthesis: a...|1981|901943132216|\n",
      "| 50029254|Combining Termino...|1993|901943132216|\n",
      "| 26046846|Metalanguage and ...|1984|901943132216|\n",
      "|112702494|A representation ...|1987|901943132216|\n",
      "|128794024|A guide to expert...|1985|901943132216|\n",
      "|117178778|Reviving partial ...|2001|901943132216|\n",
      "| 94297886|A Doctrine of Cog...|2009|901943132216|\n",
      "| 39264526|A Call for Knowle...|2001|901943132216|\n",
      "| 47560031|HICAP: an interac...|1999|901943132216|\n",
      "| 99198928|On Control Knowle...|2002|901943132216|\n",
      "| 34628948|The downward refi...|1991|901943132216|\n",
      "| 59999968|Tractable anytime...|1994|901943132216|\n",
      "|  5969461|Software engineer...|1992|901943132216|\n",
      "| 44714523|Fuzzy BOXES as an...|1991|901943132216|\n",
      "|112910222|SHOP2: an HTN pla...|2003|901943132216|\n",
      "|134001828|Learning by exper...|1993|901943132216|\n",
      "|105632952|On the Compilatio...|2006|901943132216|\n",
      "| 50478311|Economic criteria...|1979|901943132216|\n",
      "|118872169|Commitment and ef...|1991|901943132216|\n",
      "|121141938|Semantics for hie...|1994|901943132216|\n",
      "+---------+--------------------+----+------------+\n",
      "only showing top 20 rows\n",
      "\n",
      "+---------+--------------------+----+------------+\n",
      "|       id|               title|year|       label|\n",
      "+---------+--------------------+----+------------+\n",
      "|138310170|Bootstrapping Sem...|2013|738734374950|\n",
      "|121751841|De positie van he...|1998|738734374950|\n",
      "| 90330362|Mathematical Foun...|2010|738734374950|\n",
      "| 10499096|The Rules Behind ...|2000|738734374950|\n",
      "| 69592253|Information Retri...|1979|738734374950|\n",
      "|101568826|Part of Speech Ba...|2009|738734374950|\n",
      "|  6027131|Experimental Supp...|2011|738734374950|\n",
      "|  2616614|A Maximum Entropy...|1994|738734374950|\n",
      "| 59020575|A Scalable Approa...|2016|738734374950|\n",
      "|  2191513|Misc Functions of...|2014|738734374950|\n",
      "| 70921446|Integrating Gener...|2001|738734374950|\n",
      "|136167089|FASTUS: A Cascade...|1997|738734374950|\n",
      "| 37866089|Tagging English t...|1994|738734374950|\n",
      "| 30983651|Effective Informa...|2007|738734374950|\n",
      "|113025305|Sentence Entailme...|2015|738734374950|\n",
      "|  5272996|Integrating seman...|2013|738734374950|\n",
      "|152601354|Fast and accurate...|2003|738734374950|\n",
      "| 56149522|Class-based n -gr...|1992|738734374950|\n",
      "|  9204917|Overview of WebCL...|2006|738734374950|\n",
      "|118394554|Building a Multil...|2008|738734374950|\n",
      "+---------+--------------------+----+------------+\n",
      "only showing top 20 rows\n",
      "\n",
      "+---------+--------------------+----+-------------+\n",
      "|       id|               title|year|        label|\n",
      "+---------+--------------------+----+-------------+\n",
      "| 73284934|Critical Review o...|2009|1408749273125|\n",
      "|102783534|The synthesizer g...|1989|1408749273125|\n",
      "|  6718688|Shaping the futur...|1991|1408749273125|\n",
      "| 36973849|IT and Entreprene...|2011|1408749273125|\n",
      "|  3682308|Generative Progra...|2001|1408749273125|\n",
      "| 55151716|Modeling Java Thr...|1997|1408749273125|\n",
      "| 71652315|Linking Entrepren...|2001|1408749273125|\n",
      "| 24253147|The Information E...|1992|1408749273125|\n",
      "| 36753593|Research and Impl...|2003|1408749273125|\n",
      "| 55573390|The Use of Knowle...|1945|1408749273125|\n",
      "| 99209320|A SYSTEMATIC ANAL...|2006|1408749273125|\n",
      "| 55944266|Object Oriented S...|2009|1408749273125|\n",
      "|135665181|        Will it work|2001|1408749273125|\n",
      "| 57912653|Putting the enter...|1998|1408749273125|\n",
      "|152180609|Interface issues ...|1989|1408749273125|\n",
      "| 10248605|A resource-based ...|2000|1408749273125|\n",
      "|110011670|Integrating indep...|1993|1408749273125|\n",
      "| 36483916|Communicating Jav...|1997|1408749273125|\n",
      "|111299051|Mediated Communic...|2002|1408749273125|\n",
      "|128773429|The annotated C++...|1990|1408749273125|\n",
      "+---------+--------------------+----+-------------+\n",
      "only showing top 20 rows\n",
      "\n"
     ]
    }
   ],
   "source": [
    "top5 = com.orderBy(com[\"count\"].desc()).collect()[:5]\n",
    "for i in range(5):\n",
    "    communities[communities['label']==top5[i][\"label\"]].show()"
   ]
  },
  {
   "cell_type": "code",
   "execution_count": 37,
   "metadata": {},
   "outputs": [],
   "source": [
    "spark.stop()"
   ]
  }
 ],
 "metadata": {
  "kernelspec": {
   "display_name": "Python 3",
   "language": "python",
   "name": "python3"
  },
  "language_info": {
   "codemirror_mode": {
    "name": "ipython",
    "version": 3
   },
   "file_extension": ".py",
   "mimetype": "text/x-python",
   "name": "python",
   "nbconvert_exporter": "python",
   "pygments_lexer": "ipython3",
   "version": "3.7.5"
  }
 },
 "nbformat": 4,
 "nbformat_minor": 2
}
